{
 "cells": [
  {
   "cell_type": "markdown",
   "metadata": {},
   "source": [
    "# Customize Training with Callbacks\n",
    "---"
   ]
  },
  {
   "cell_type": "markdown",
   "metadata": {
    "toc": true
   },
   "source": [
    "<h1>Table of Contents<span class=\"tocSkip\"></span></h1>\n",
    "<div class=\"toc\"><ul class=\"toc-item\"><li><span><a href=\"#Customize-Training-with-Callbacks\" data-toc-modified-id=\"Customize-Training-with-Callbacks-1\"><span class=\"toc-item-num\">1&nbsp;&nbsp;</span>Customize Training with Callbacks</a></span><ul class=\"toc-item\"><li><span><a href=\"#Import-Libraries\" data-toc-modified-id=\"Import-Libraries-1.1\"><span class=\"toc-item-num\">1.1&nbsp;&nbsp;</span>Import Libraries</a></span></li><li><span><a href=\"#Load-Data\" data-toc-modified-id=\"Load-Data-1.2\"><span class=\"toc-item-num\">1.2&nbsp;&nbsp;</span>Load Data</a></span></li><li><span><a href=\"#Initialize-Learner\" data-toc-modified-id=\"Initialize-Learner-1.3\"><span class=\"toc-item-num\">1.3&nbsp;&nbsp;</span>Initialize Learner</a></span></li></ul></li><li><span><a href=\"#Basic-Callback-System\" data-toc-modified-id=\"Basic-Callback-System-2\"><span class=\"toc-item-num\">2&nbsp;&nbsp;</span>Basic Callback System</a></span><ul class=\"toc-item\"><li><span><a href=\"#Abstract-Callback-Class\" data-toc-modified-id=\"Abstract-Callback-Class-2.1\"><span class=\"toc-item-num\">2.1&nbsp;&nbsp;</span>Abstract Callback Class</a></span></li><li><span><a href=\"#Test-Callback\" data-toc-modified-id=\"Test-Callback-2.2\"><span class=\"toc-item-num\">2.2&nbsp;&nbsp;</span>Test Callback</a></span></li><li><span><a href=\"#Callback-Controller\" data-toc-modified-id=\"Callback-Controller-2.3\"><span class=\"toc-item-num\">2.3&nbsp;&nbsp;</span>Callback Controller</a></span></li><li><span><a href=\"#Train-with-Callbacks\" data-toc-modified-id=\"Train-with-Callbacks-2.4\"><span class=\"toc-item-num\">2.4&nbsp;&nbsp;</span>Train with Callbacks</a></span></li></ul></li><li><span><a href=\"#Improved-Callback-System\" data-toc-modified-id=\"Improved-Callback-System-3\"><span class=\"toc-item-num\">3&nbsp;&nbsp;</span>Improved Callback System</a></span><ul class=\"toc-item\"><li><span><a href=\"#Abstract-Callback-Class\" data-toc-modified-id=\"Abstract-Callback-Class-3.1\"><span class=\"toc-item-num\">3.1&nbsp;&nbsp;</span>Abstract Callback Class</a></span></li><li><span><a href=\"#Controller\" data-toc-modified-id=\"Controller-3.2\"><span class=\"toc-item-num\">3.2&nbsp;&nbsp;</span>Controller</a></span></li><li><span><a href=\"#Test-Callback-System\" data-toc-modified-id=\"Test-Callback-System-3.3\"><span class=\"toc-item-num\">3.3&nbsp;&nbsp;</span>Test Callback System</a></span></li><li><span><a href=\"#Callback:-Stats-Reporter\" data-toc-modified-id=\"Callback:-Stats-Reporter-3.4\"><span class=\"toc-item-num\">3.4&nbsp;&nbsp;</span>Callback: Stats Reporter</a></span></li><li><span><a href=\"#Train-with-Callbacks\" data-toc-modified-id=\"Train-with-Callbacks-3.5\"><span class=\"toc-item-num\">3.5&nbsp;&nbsp;</span>Train with Callbacks</a></span></li></ul></li></ul></div>"
   ]
  },
  {
   "cell_type": "markdown",
   "metadata": {},
   "source": [
    "## Import Libraries"
   ]
  },
  {
   "cell_type": "code",
   "execution_count": 1,
   "metadata": {},
   "outputs": [],
   "source": [
    "config = {\n",
    "    'epochs': 20,\n",
    "    'lr': 0.1,\n",
    "    'bs': 128\n",
    "}"
   ]
  },
  {
   "cell_type": "code",
   "execution_count": 2,
   "metadata": {},
   "outputs": [],
   "source": [
    "import torch\n",
    "import torch.nn as nn\n",
    "import torch.nn.functional as F"
   ]
  },
  {
   "cell_type": "code",
   "execution_count": 3,
   "metadata": {},
   "outputs": [],
   "source": [
    "import re\n",
    "import utils"
   ]
  },
  {
   "cell_type": "markdown",
   "metadata": {},
   "source": [
    "## Load Data"
   ]
  },
  {
   "cell_type": "code",
   "execution_count": 4,
   "metadata": {},
   "outputs": [],
   "source": [
    "x_train, y_train, x_test, y_test = utils.get_data()\n",
    "train_dl, test_dl = utils.get_dataloaders(x_train, y_train, x_test, y_test, config['bs'])"
   ]
  },
  {
   "cell_type": "code",
   "execution_count": 5,
   "metadata": {},
   "outputs": [],
   "source": [
    "data = utils.Databunch(train_dl, test_dl, n_classes=10)"
   ]
  },
  {
   "cell_type": "markdown",
   "metadata": {},
   "source": [
    "## Initialize Learner"
   ]
  },
  {
   "cell_type": "code",
   "execution_count": 6,
   "metadata": {},
   "outputs": [],
   "source": [
    "model = nn.Sequential(nn.Linear(784, 300), nn.ReLU(), nn.Linear(300,100), nn.ReLU(), nn.Linear(100,10))"
   ]
  },
  {
   "cell_type": "code",
   "execution_count": 7,
   "metadata": {},
   "outputs": [],
   "source": [
    "optim = torch.optim.SGD(model.parameters(), lr = config['lr'])"
   ]
  },
  {
   "cell_type": "code",
   "execution_count": 8,
   "metadata": {},
   "outputs": [],
   "source": [
    "learner = utils.Learner(model, data, optim, F.cross_entropy)"
   ]
  },
  {
   "cell_type": "markdown",
   "metadata": {
    "heading_collapsed": true
   },
   "source": [
    "# Basic Callback System\n",
    "---\n",
    "**WARNING: Bad Smelly Code Ahead!**"
   ]
  },
  {
   "cell_type": "markdown",
   "metadata": {
    "hidden": true
   },
   "source": [
    "## Abstract Callback Class"
   ]
  },
  {
   "cell_type": "code",
   "execution_count": 9,
   "metadata": {
    "hidden": true
   },
   "outputs": [],
   "source": [
    "class Callback:\n",
    "    \"\"\"\n",
    "    Abstract class inherited by all callbacks\n",
    "  \n",
    "    All methods return true by default\n",
    "    to avoid interrupting the training loop    \n",
    "    \"\"\"\n",
    "    \n",
    "    def before_train(self, learner):\n",
    "        self.learner = learner\n",
    "        return True\n",
    "    \n",
    "    def before_epoch(self, epoch):\n",
    "        self.epoch = epoch\n",
    "        return True\n",
    "    \n",
    "    def before_batch(self, xb, yb):\n",
    "        self.xb, self.yb = xb, yb\n",
    "        return True\n",
    "    \n",
    "    def after_loss(self, loss):\n",
    "        self.loss = loss\n",
    "        return True\n",
    "    \n",
    "    def after_backward(self):  return True\n",
    "    def after_step(self):      return True\n",
    "    def before_validate(self): return True\n",
    "    def after_epoch(self):     return True\n",
    "    def after_train(self):     return True"
   ]
  },
  {
   "cell_type": "markdown",
   "metadata": {
    "hidden": true
   },
   "source": [
    "## Test Callback"
   ]
  },
  {
   "cell_type": "code",
   "execution_count": 10,
   "metadata": {
    "hidden": true
   },
   "outputs": [],
   "source": [
    "class Test(Callback):\n",
    "    '''Test callback system to stop training at given iteration'''\n",
    "    \n",
    "    def __init__(self, stop_train_at=10):\n",
    "        self.stop_at = stop_train_at\n",
    "        \n",
    "    def before_train(self, learner):\n",
    "        super().before_train(learner)\n",
    "        self.iters = 0\n",
    "        return True\n",
    "    \n",
    "    def after_step(self):\n",
    "        self.iters += 1\n",
    "        print(self.iters)\n",
    "        if self.iters > self.stop_at:\n",
    "            self.learner.stop = True\n",
    "        return True"
   ]
  },
  {
   "cell_type": "markdown",
   "metadata": {
    "hidden": true
   },
   "source": [
    "## Callback Controller"
   ]
  },
  {
   "cell_type": "code",
   "execution_count": 11,
   "metadata": {
    "hidden": true
   },
   "outputs": [],
   "source": [
    "class CallbackController:\n",
    "    '''Runs the registered callbacks during a training loop'''\n",
    "    \n",
    "    def __init__(self, callbacks):\n",
    "        self.cbs = callbacks if callbacks else []\n",
    "    \n",
    "    def before_train(self, learner):\n",
    "        self.learner = learner\n",
    "        self.in_train = True\n",
    "        carry_on = True\n",
    "        self.learner.stop = False\n",
    "        for cb in self.cbs:\n",
    "            carry_on = carry_on and cb.before_train(model)\n",
    "        return carry_on\n",
    "    \n",
    "    def after_train(self):\n",
    "        carry_on = not self.in_train\n",
    "        for cb in self.cbs:\n",
    "            carry_on = carry_on and cb.after_train()\n",
    "        return carry_on\n",
    "    \n",
    "    def before_epoch(self, epoch):\n",
    "        self.learner.model.train()\n",
    "        self.in_train = True\n",
    "        carry_on = True\n",
    "        for cb in self.cbs:\n",
    "            carry_on = carry_on and cb.before_epoch(epoch)\n",
    "        return carry_on\n",
    "    \n",
    "    def after_epoch(self):\n",
    "        carry_on = True\n",
    "        for cb in self.cbs:\n",
    "            carry_on = carry_on and cb.after_epoch()\n",
    "        return carry_on\n",
    "    \n",
    "    def before_batch(self, xb, yb):\n",
    "        carry_on = True\n",
    "        for cb in self.cbs:\n",
    "            carry_on = carry_on and cb.before_batch(xb, yb)\n",
    "        return carry_on\n",
    "        \n",
    "    def before_validate(self):\n",
    "        self.learner.model.eval()\n",
    "        self.in_train = False\n",
    "        carry_on = True\n",
    "        for cb in self.cbs:\n",
    "            carry_on = carry_on and cb.before_validate()\n",
    "        return carry_on\n",
    "        \n",
    "    def after_loss(self, loss):\n",
    "        carry_on = self.in_train\n",
    "        for cb in self.cbs:\n",
    "            carry_on = carry_on and cb.after_loss(loss)\n",
    "        return carry_on\n",
    "    \n",
    "    def after_backward(self):\n",
    "        carry_on = True\n",
    "        for cb in self.cbs:\n",
    "            carry_on = carry_on and cb.after_backward()\n",
    "        return carry_on\n",
    "    \n",
    "    def after_step(self):\n",
    "        carry_on = True\n",
    "        for cb in self.cbs:\n",
    "            carry_on = carry_on and cb.after_step()\n",
    "        return carry_on\n",
    "    \n",
    "    def do_stop(self):\n",
    "        try:\n",
    "            return self.learner.stop\n",
    "        finally:\n",
    "            self.learner.stop = False"
   ]
  },
  {
   "cell_type": "markdown",
   "metadata": {
    "hidden": true
   },
   "source": [
    "## Train with Callbacks"
   ]
  },
  {
   "cell_type": "code",
   "execution_count": 12,
   "metadata": {
    "hidden": true
   },
   "outputs": [],
   "source": [
    "def train_one_batch(xb, yb, cb):\n",
    "    if not cb.before_batch(xb, yb): return\n",
    "    yb_pred = cb.learner.model(xb)\n",
    "    loss = cb.learner.loss_func(yb_pred, yb)\n",
    "    if not cb.after_loss(loss): return\n",
    "    loss.backward()\n",
    "    if cb.after_backward(): cb.learner.opt.step()\n",
    "    if cb.after_step(): cb.learner.opt.zero_grad()\n",
    "\n",
    "def train_all_batches(dl, cb):\n",
    "    for xb,yb in dl:\n",
    "        train_one_batch(xb, yb, cb)\n",
    "        if cb.do_stop: return\n",
    "    \n",
    "def train(epochs, learner, cb):\n",
    "    if not cb.before_train(learner): return\n",
    "    for epoch in range(epochs):\n",
    "        if not cb.before_epoch(epoch): continue\n",
    "        train_all_batches(learner.data.train_dl, cb)\n",
    "        \n",
    "        if cb.before_validate():\n",
    "            with torch.no_grad():\n",
    "                train_all_batches(learner.data.test_dl, cb)\n",
    "        if cb.do_stop() or not cb.after_epoch(): return\n",
    "    cb.after_train()"
   ]
  },
  {
   "cell_type": "markdown",
   "metadata": {
    "hidden": true
   },
   "source": [
    "**TODO: Doesn't work. Fix it.**"
   ]
  },
  {
   "cell_type": "code",
   "execution_count": 13,
   "metadata": {
    "hidden": true
   },
   "outputs": [
    {
     "name": "stdout",
     "output_type": "stream",
     "text": [
      "1\n",
      "2\n",
      "3\n",
      "4\n",
      "5\n",
      "6\n",
      "7\n",
      "8\n",
      "9\n",
      "10\n",
      "11\n",
      "12\n",
      "13\n",
      "14\n",
      "15\n",
      "16\n",
      "17\n",
      "18\n",
      "19\n",
      "20\n"
     ]
    }
   ],
   "source": [
    "train(config['epochs'], learner,\n",
    "      CallbackController([Test(stop_train_at=10)]))"
   ]
  },
  {
   "cell_type": "markdown",
   "metadata": {},
   "source": [
    "# Improved Callback System\n",
    "---\n",
    "**Cleaning up the mess**"
   ]
  },
  {
   "cell_type": "markdown",
   "metadata": {},
   "source": [
    "## Abstract Callback Class"
   ]
  },
  {
   "cell_type": "code",
   "execution_count": 14,
   "metadata": {},
   "outputs": [],
   "source": [
    "def camel2snake(name):\n",
    "    _camel_r1 = \"(.)([A-Z][a-z]+)\"\n",
    "    _camel_r2 = \"([a-z0-9])([A-Z])\"\n",
    "    s1 = re.sub(_camel_r1, r'\\1_\\2', name)\n",
    "    return re.sub(_camel_r2, r'\\1_\\2', s1).lower()"
   ]
  },
  {
   "cell_type": "code",
   "execution_count": 15,
   "metadata": {},
   "outputs": [],
   "source": [
    "class Callback:\n",
    "    '''Abstract Callback Class'''\n",
    "    _order = 0\n",
    "    \n",
    "    def set_controller(self, control):\n",
    "        self.control = control\n",
    "        \n",
    "    def __getattr__(self, attr):\n",
    "        return getattr(self.control, attr)\n",
    "    \n",
    "    @property\n",
    "    def name(self):\n",
    "        return camel2snake(self.__class__.__name__ or 'callback')\n",
    "    \n",
    "    def __call__(self, cb_name):\n",
    "        cb_func = getattr(self, cb_name, None)\n",
    "        if cb_func and cb_func(): return True\n",
    "        return False"
   ]
  },
  {
   "cell_type": "code",
   "execution_count": 16,
   "metadata": {},
   "outputs": [],
   "source": [
    "class TrainEval(Callback):\n",
    "    \"\"\"\n",
    "    Callback to switch between train and eval mode,\n",
    "    as well as keep track of iterations during training.\n",
    "    \n",
    "    Note: This callback is attached by default\n",
    "    \"\"\"\n",
    "    \n",
    "    def before_train(self):\n",
    "        self.control.n_epochs = 0.\n",
    "        self.control.n_iter = 0.\n",
    "    \n",
    "    def before_epoch(self):\n",
    "        self.control.model.train()\n",
    "        self.control.in_train = True\n",
    "        self.control.n_epochs = self.control.epoch\n",
    "    \n",
    "    def before_batch(self):\n",
    "        if not self.control.in_train: return\n",
    "        self.control.n_epochs += 1./self.control.iters\n",
    "        self.control.n_iter += 1\n",
    "    \n",
    "    def before_validate(self):\n",
    "        self.control.model.eval()\n",
    "        self.control.in_train = False"
   ]
  },
  {
   "cell_type": "code",
   "execution_count": 17,
   "metadata": {},
   "outputs": [],
   "source": [
    "class CancelTrainException(Exception): pass\n",
    "class CancelEpochException(Exception): pass\n",
    "class CancelBatchException(Exception): pass"
   ]
  },
  {
   "cell_type": "markdown",
   "metadata": {},
   "source": [
    "## Controller"
   ]
  },
  {
   "cell_type": "code",
   "execution_count": 18,
   "metadata": {},
   "outputs": [],
   "source": [
    "class Controller:\n",
    "    '''Main Controller responsible for callbacks and training loop'''\n",
    "    \n",
    "    def __init__(self, callback_list=[]):\n",
    "        self.cbs = [TrainEval()] + callback_list\n",
    "        for cb in self.cbs: setattr(self, cb.name, cb)\n",
    "    \n",
    "    @property\n",
    "    def model(self):     return self.learner.model\n",
    "    @property\n",
    "    def data(self):      return self.learner.data\n",
    "    @property\n",
    "    def opt(self):       return self.learner.opt\n",
    "    @property\n",
    "    def loss_func(self): return self.learner.loss_func\n",
    "\n",
    "    def run_one_batch(self, xb, yb):\n",
    "        try:\n",
    "            self.xb, self.yb = xb, yb\n",
    "            if self('before_batch'): return\n",
    "            self.pred = self.model(self.xb)\n",
    "            if self('after_pred'): return\n",
    "            self.loss = self.loss_func(self.pred, self.yb)\n",
    "            if self('after_loss') or not self.in_train: return\n",
    "            self.loss.backward()\n",
    "            if self('after_backward'): return\n",
    "            self.opt.step()\n",
    "            if self('after_step'): return\n",
    "            self.opt.zero_grad()\n",
    "        except CancelBatchException: self('after_cancel_batch')\n",
    "        finally:                     self('after_batch')\n",
    "        \n",
    "    def run_all_batches(self, dl):\n",
    "        self.iters = len(dl)\n",
    "        try:\n",
    "            for xb, yb in dl: self.run_one_batch(xb, yb)\n",
    "        except CancelEpochException: self('after_cancel_epoch')\n",
    "    \n",
    "    def train(self, learner, epochs):\n",
    "        self.learner, self.epochs = learner, epochs\n",
    "        try:\n",
    "            for cb in self.cbs: \n",
    "                cb.set_controller(self)\n",
    "            if self('before_train'): return\n",
    "            for epoch in range(self.epochs):\n",
    "                self.epoch = epoch\n",
    "                if not self('before_epoch'):\n",
    "                    self.run_all_batches(self.data.train_dl)\n",
    "                with torch.no_grad():\n",
    "                    if not self('before_validate'):\n",
    "                        self.run_all_batches(self.data.test_dl)\n",
    "                if self('after_epoch'): break\n",
    "        except CancelTrainException: self('after_cancel_train') \n",
    "        finally:                     self('after_train')\n",
    "    \n",
    "    def __call__(self, cb_func_name):\n",
    "        to_stop = True\n",
    "        for cb in sorted(self.cbs, key=lambda x: x._order):\n",
    "            to_stop = cb(cb_func_name) and to_stop\n",
    "        return to_stop"
   ]
  },
  {
   "cell_type": "markdown",
   "metadata": {},
   "source": [
    "## Test Callback System"
   ]
  },
  {
   "cell_type": "code",
   "execution_count": 19,
   "metadata": {},
   "outputs": [],
   "source": [
    "class Test(Callback):\n",
    "    '''Stops training after the given number of batches'''\n",
    "    \n",
    "    _order = 1\n",
    "    \n",
    "    def __init__(self, stop_at=10):\n",
    "        self.stop_at, self.count = stop_at, 0\n",
    "    \n",
    "    def before_batch(self):\n",
    "        self.count += 1\n",
    "        print(self.count)\n",
    "        if self.count >= self.stop_at:\n",
    "            raise CancelTrainException()\n",
    "    \n",
    "    def after_cancel_train(self):\n",
    "        print(f\"Training has been stopped by {self.__class__.__name__} callback\")"
   ]
  },
  {
   "cell_type": "code",
   "execution_count": 20,
   "metadata": {},
   "outputs": [
    {
     "name": "stdout",
     "output_type": "stream",
     "text": [
      "1\n",
      "2\n",
      "3\n",
      "4\n",
      "5\n",
      "6\n",
      "7\n",
      "8\n",
      "9\n",
      "10\n",
      "Training has been stopped by Test callback\n"
     ]
    }
   ],
   "source": [
    "controller = Controller([Test(stop_at=10)])\n",
    "controller.train(learner, 20)"
   ]
  },
  {
   "cell_type": "markdown",
   "metadata": {},
   "source": [
    "## Callback: Stats Reporter"
   ]
  },
  {
   "cell_type": "code",
   "execution_count": 21,
   "metadata": {},
   "outputs": [],
   "source": [
    "class StatsReporter(Callback):\n",
    "    '''Report training statistics in terms of the given metrics'''\n",
    "    \n",
    "    def __init__(self, metrics):\n",
    "        self.metrics = [] if metrics is None else metrics\n",
    "            \n",
    "    def before_epoch(self):\n",
    "        self.train_loss, self.valid_loss = 0., 0.\n",
    "        self.train_metrics = torch.tensor([0.]).expand(len(self.metrics))\n",
    "        self.valid_metrics = torch.tensor([0.]).expand(len(self.metrics))\n",
    "        self.train_count, self.valid_count = 0, 0\n",
    "    \n",
    "    def after_loss(self):\n",
    "        batch_len = self.control.xb.shape[0]\n",
    "        if self.control.in_train:\n",
    "            self.train_count += batch_len\n",
    "            self.train_loss += self.control.loss*batch_len\n",
    "            self.train_metrics += torch.tensor([m(self.control.pred,self.control.yb)*batch_len\\\n",
    "                                                for m in self.metrics])\n",
    "        else:\n",
    "            self.valid_count += batch_len\n",
    "            self.valid_loss += self.control.loss*batch_len\n",
    "            self.valid_metrics += torch.tensor([m(self.control.pred,self.control.yb)*batch_len\\\n",
    "                                                for m in self.metrics])\n",
    "\n",
    "        \n",
    "    def after_epoch(self):\n",
    "        header = f\"EPOCH#{self.control.epoch} \\t\"\n",
    "        train_avg_loss = self.train_loss / self.train_count\n",
    "        valid_avg_loss = self.valid_loss / self.valid_count\n",
    "        train_avg_metrics = self.train_metrics.numpy() / self.train_count\n",
    "        valid_avg_metrics = self.valid_metrics.numpy() / self.valid_count\n",
    "        train_str = f\"Train loss: {train_avg_loss:.3f} \\t metrics: {train_avg_metrics} \\t\"\n",
    "        valid_str = f\"Valid loss: {valid_avg_loss:.3f} \\t metrics: {valid_avg_metrics} \\t\"\n",
    "        print(header + train_str + valid_str)"
   ]
  },
  {
   "cell_type": "markdown",
   "metadata": {},
   "source": [
    "## Train with Callbacks"
   ]
  },
  {
   "cell_type": "code",
   "execution_count": 22,
   "metadata": {},
   "outputs": [],
   "source": [
    "reporter = StatsReporter([utils.accuracy])\n",
    "control = Controller(callback_list=[reporter])"
   ]
  },
  {
   "cell_type": "code",
   "execution_count": 23,
   "metadata": {},
   "outputs": [
    {
     "name": "stdout",
     "output_type": "stream",
     "text": [
      "EPOCH#0 \tTrain loss: 0.318 \t metrics: [0.9057] \tValid loss: 0.215 \t metrics: [0.9337] \t\n",
      "EPOCH#1 \tTrain loss: 0.156 \t metrics: [0.95384] \tValid loss: 0.121 \t metrics: [0.9654] \t\n",
      "EPOCH#2 \tTrain loss: 0.107 \t metrics: [0.96782] \tValid loss: 0.101 \t metrics: [0.9703] \t\n",
      "EPOCH#3 \tTrain loss: 0.079 \t metrics: [0.9769] \tValid loss: 0.089 \t metrics: [0.9724] \t\n",
      "EPOCH#4 \tTrain loss: 0.061 \t metrics: [0.98258] \tValid loss: 0.087 \t metrics: [0.9722] \t\n",
      "EPOCH#5 \tTrain loss: 0.049 \t metrics: [0.98554] \tValid loss: 0.080 \t metrics: [0.9764] \t\n",
      "EPOCH#6 \tTrain loss: 0.039 \t metrics: [0.98832] \tValid loss: 0.071 \t metrics: [0.979] \t\n",
      "EPOCH#7 \tTrain loss: 0.030 \t metrics: [0.99158] \tValid loss: 0.074 \t metrics: [0.9792] \t\n",
      "EPOCH#8 \tTrain loss: 0.023 \t metrics: [0.99416] \tValid loss: 0.073 \t metrics: [0.9785] \t\n",
      "EPOCH#9 \tTrain loss: 0.019 \t metrics: [0.99534] \tValid loss: 0.069 \t metrics: [0.98] \t\n",
      "EPOCH#10 \tTrain loss: 0.014 \t metrics: [0.9969] \tValid loss: 0.071 \t metrics: [0.9807] \t\n",
      "EPOCH#11 \tTrain loss: 0.011 \t metrics: [0.99798] \tValid loss: 0.077 \t metrics: [0.9776] \t\n",
      "EPOCH#12 \tTrain loss: 0.009 \t metrics: [0.9986] \tValid loss: 0.071 \t metrics: [0.9809] \t\n",
      "EPOCH#13 \tTrain loss: 0.007 \t metrics: [0.99908] \tValid loss: 0.076 \t metrics: [0.9797] \t\n",
      "EPOCH#14 \tTrain loss: 0.005 \t metrics: [0.99948] \tValid loss: 0.069 \t metrics: [0.9816] \t\n",
      "EPOCH#15 \tTrain loss: 0.004 \t metrics: [0.9997] \tValid loss: 0.071 \t metrics: [0.9816] \t\n",
      "EPOCH#16 \tTrain loss: 0.003 \t metrics: [0.99976] \tValid loss: 0.071 \t metrics: [0.9819] \t\n",
      "EPOCH#17 \tTrain loss: 0.003 \t metrics: [0.9998] \tValid loss: 0.071 \t metrics: [0.9821] \t\n",
      "EPOCH#18 \tTrain loss: 0.002 \t metrics: [0.99994] \tValid loss: 0.071 \t metrics: [0.9828] \t\n",
      "EPOCH#19 \tTrain loss: 0.002 \t metrics: [0.99994] \tValid loss: 0.072 \t metrics: [0.9818] \t\n"
     ]
    }
   ],
   "source": [
    "control.train(learner, 20)"
   ]
  },
  {
   "cell_type": "code",
   "execution_count": null,
   "metadata": {},
   "outputs": [],
   "source": []
  }
 ],
 "metadata": {
  "kernelspec": {
   "display_name": "Python 3",
   "language": "python",
   "name": "python3"
  },
  "language_info": {
   "codemirror_mode": {
    "name": "ipython",
    "version": 3
   },
   "file_extension": ".py",
   "mimetype": "text/x-python",
   "name": "python",
   "nbconvert_exporter": "python",
   "pygments_lexer": "ipython3",
   "version": "3.7.5"
  },
  "toc": {
   "base_numbering": 1,
   "nav_menu": {},
   "number_sections": true,
   "sideBar": true,
   "skip_h1_title": false,
   "title_cell": "Table of Contents",
   "title_sidebar": "Contents",
   "toc_cell": true,
   "toc_position": {},
   "toc_section_display": true,
   "toc_window_display": true
  }
 },
 "nbformat": 4,
 "nbformat_minor": 4
}
